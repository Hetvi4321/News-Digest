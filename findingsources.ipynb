{
 "cells": [
  {
   "cell_type": "code",
   "execution_count": null,
   "metadata": {
    "vscode": {
     "languageId": "plaintext"
    }
   },
   "outputs": [],
   "source": [
    "import requests\n",
    "from bs4 import BeautifulSoup\n",
    "import re\n",
    "\n",
    "def find_sources(headline, sources):\n",
    "    \"\"\"\n",
    "    Finds three sources for the given headline using Google Search.\n",
    "\n",
    "    Args:\n",
    "        headline: The headline to search for.\n",
    "        sources: A list of preferred news sources to prioritize.\n",
    "\n",
    "    Returns:\n",
    "        A list of three source URLs, or an empty list if no sources are found.\n",
    "    \"\"\"\n",
    "\n",
    "    search_query = f'\"{headline}\"'\n",
    "    for source in sources:\n",
    "        search_query += f' site:{source}'\n",
    "\n",
    "    try:\n",
    "        response = requests.get(f'https://www.google.com/search?q={search_query}')\n",
    "        response.raise_for_status()  # Raise an exception for bad status codes\n",
    "\n",
    "        soup = BeautifulSoup(response.content, 'html.parser')\n",
    "\n",
    "        # Extract URLs from search results\n",
    "        urls = []\n",
    "        for result in soup.find_all('a', href=re.compile(r'^https?://')):\n",
    "            url = result['href']\n",
    "            if url.startswith('http') and not url.startswith('http://www.google.com'):\n",
    "                urls.append(url)\n",
    "\n",
    "        # Prioritize URLs from preferred sources\n",
    "        prioritized_urls = [url for url in urls if any(source in url for source in sources)]\n",
    "\n",
    "        return prioritized_urls[:3]  # Return the first three prioritized URLs\n",
    "    except requests.exceptions.RequestException as e:\n",
    "        print(f\"Error fetching search results: {e}\")\n",
    "        return []\n",
    "\n",
    "# Example usage\n",
    "headline = \"AI breakthrough in medical imaging\"\n",
    "preferred_sources = [\"nytimes.com\", \"bbc.com\", \"nature.com\"]\n",
    "\n",
    "source_urls = find_sources(headline, preferred_sources)\n",
    "print(source_urls)"
   ]
  }
 ],
 "metadata": {
  "language_info": {
   "name": "python"
  }
 },
 "nbformat": 4,
 "nbformat_minor": 2
}
